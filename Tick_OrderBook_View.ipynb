{
 "metadata": {
  "language": "Julia",
  "name": "",
  "signature": "sha256:627b5e8aa99bc791b749216cc97b23057d6f21ca67c85fd471b7e0ea812de2c8"
 },
 "nbformat": 3,
 "nbformat_minor": 0,
 "worksheets": [
  {
   "cells": [
    {
     "cell_type": "code",
     "collapsed": false,
     "input": [
      "using Datetime, DataArrays, DataFrames"
     ],
     "language": "python",
     "metadata": {},
     "outputs": [],
     "prompt_number": 1
    },
    {
     "cell_type": "code",
     "collapsed": false,
     "input": [
      "replace_syms(x, membernames) = x\n",
      "function replace_syms(e::Expr, membernames)\n",
      "    if e.head != :quote\n",
      "        return Expr(e.head, (isempty(e.args) ? e.args : map(x -> replace_syms(x, membernames), e.args))...)\n",
      "    else\n",
      "        if haskey(membernames, e.args[1])\n",
      "            return membernames[e.args[1]]\n",
      "        else\n",
      "            a = gensym()\n",
      "            membernames[e.args[1]] = a\n",
      "            return a\n",
      "        end\n",
      "    end\n",
      "end\n",
      "\n",
      "function with_helper(d, body)\n",
      "    membernames = Dict{Symbol, Symbol}()\n",
      "    body = replace_syms(body, membernames)\n",
      "    funargs = map(x -> :( getindex($d, $(Meta.quot(x))) ), collect(keys(membernames)))\n",
      "    funname = gensym()\n",
      "    return(:( function $funname($(collect(values(membernames))...)) $body end; $funname($(funargs...)) ))\n",
      "end\n",
      "\n",
      "macro with(d, body)\n",
      "    with_helper(d, body)\n",
      "end"
     ],
     "language": "python",
     "metadata": {},
     "outputs": [],
     "prompt_number": 14
    },
    {
     "cell_type": "code",
     "collapsed": false,
     "input": [
      "tic()\n",
      "dfRaw = readtable(\"/Users/Andre/Projects/Kospi liquidity model/futures/csv by contract/Front month/kse-kospi200_2013-12_20131007.csv\");\n",
      "toc()\n",
      "nrow(dfRaw), ncol(dfRaw)"
     ],
     "language": "python",
     "metadata": {},
     "outputs": [
      {
       "output_type": "stream",
       "stream": "stdout",
       "text": [
        "elapsed time: 4"
       ]
      },
      {
       "output_type": "stream",
       "stream": "stdout",
       "text": [
        ".466772627 seconds\n"
       ]
      },
      {
       "metadata": {},
       "output_type": "pyout",
       "prompt_number": 2,
       "text": [
        "(367860,25)"
       ]
      }
     ],
     "prompt_number": 2
    },
    {
     "cell_type": "code",
     "collapsed": false,
     "input": [
      "df = dfRaw[13:end, setdiff(1:end,[3])]\n",
      "print(\"size:$(size(df))\")\n",
      "\n",
      "# parse string to datetime\n",
      "strToDate(s) = datetime(\n",
      "     int(s[1:4]),   # year\n",
      "     int(s[6:7]),   # month \n",
      "     int(s[9:10]),  # day \n",
      "     int(s[12:13]), # hour\n",
      "     int(s[15:16]), # minute\n",
      "     int(s[18:19]), # sec\n",
      "     int(s[21:23])) # millisec\n",
      "\n",
      "# add micro second time\n",
      "strToMicroSec(s) = (int64(strToDate(s))*1000) + int64(s[24:end-1])\n",
      "tic()\n",
      "df[:microsec] = map(s -> strToMicroSec(s), df[:,:Date]) # parse Datatime string into micro seconds\n",
      "toc()\n",
      "dfsm = df[12:16,:]"
     ],
     "language": "python",
     "metadata": {},
     "outputs": [
      {
       "output_type": "stream",
       "stream": "stdout",
       "text": [
        "size:(367848,24)elapsed time: "
       ]
      },
      {
       "output_type": "stream",
       "stream": "stdout",
       "text": [
        "1.235968824 seconds\n"
       ]
      },
      {
       "html": [
        "<table><tr><th></th><th>Date</th><th>event</th><th>lastSize</th><th>last</th><th>bidSz</th><th>bid</th><th>bidSz1</th><th>bid1</th><th>bidSz2</th><th>bid2</th><th>bidSz3</th><th>bid3</th><th>bidSz4</th><th>bid4</th><th>askSz</th><th>ask</th><th>askSz1</th><th>ask1</th><th>askSz2</th><th>ask2</th><th>askSz3</th><th>ask3</th><th>askSz4</th><th>ask4</th><th>microsec</th></tr><tr><th>1</th><td>2013-10-07T00:00:00.797361Z</td><td>trade</td><td>1</td><td>26305</td><td>0</td><td>0</td><td>0</td><td>0</td><td>0</td><td>0</td><td>0</td><td>0</td><td>0</td><td>0</td><td>0</td><td>0</td><td>0</td><td>0</td><td>0</td><td>0</td><td>0</td><td>0</td><td>0</td><td>0</td><td>63516787225797361</td></tr><tr><th>2</th><td>2013-10-07T00:00:00.797361Z</td><td>quote</td><td>0</td><td>0</td><td>20</td><td>26305</td><td>90</td><td>26300</td><td>45</td><td>26295</td><td>65</td><td>26290</td><td>93</td><td>26285</td><td>3</td><td>26310</td><td>6</td><td>26320</td><td>7</td><td>26325</td><td>23</td><td>26330</td><td>112</td><td>26335</td><td>63516787225797361</td></tr><tr><th>3</th><td>2013-10-07T00:00:00.799466Z</td><td>quote</td><td>0</td><td>0</td><td>21</td><td>26305</td><td>90</td><td>26300</td><td>45</td><td>26295</td><td>65</td><td>26290</td><td>93</td><td>26285</td><td>3</td><td>26310</td><td>6</td><td>26320</td><td>7</td><td>26325</td><td>23</td><td>26330</td><td>112</td><td>26335</td><td>63516787225799466</td></tr><tr><th>4</th><td>2013-10-07T00:00:00.801951Z</td><td>trade</td><td>1</td><td>26310</td><td>0</td><td>0</td><td>0</td><td>0</td><td>0</td><td>0</td><td>0</td><td>0</td><td>0</td><td>0</td><td>0</td><td>0</td><td>0</td><td>0</td><td>0</td><td>0</td><td>0</td><td>0</td><td>0</td><td>0</td><td>63516787225801951</td></tr><tr><th>5</th><td>2013-10-07T00:00:00.801951Z</td><td>quote</td><td>0</td><td>0</td><td>21</td><td>26305</td><td>90</td><td>26300</td><td>45</td><td>26295</td><td>65</td><td>26290</td><td>93</td><td>26285</td><td>2</td><td>26310</td><td>6</td><td>26320</td><td>7</td><td>26325</td><td>23</td><td>26330</td><td>112</td><td>26335</td><td>63516787225801951</td></tr></table>"
       ],
       "metadata": {},
       "output_type": "pyout",
       "prompt_number": 20,
       "text": [
        "5x25 DataFrame\n",
        "|-------|-------------------------------|---------|----------|-------|-------|\n",
        "| Row # | Date                          | event   | lastSize | last  | bidSz |\n",
        "| 1     | \"2013-10-07T00:00:00.797361Z\" | \"trade\" | 1        | 26305 | 0     |\n",
        "| 2     | \"2013-10-07T00:00:00.797361Z\" | \"quote\" | 0        | 0     | 20    |\n",
        "| 3     | \"2013-10-07T00:00:00.799466Z\" | \"quote\" | 0        | 0     | 21    |\n",
        "| 4     | \"2013-10-07T00:00:00.801951Z\" | \"trade\" | 1        | 26310 | 0     |\n",
        "| 5     | \"2013-10-07T00:00:00.801951Z\" | \"quote\" | 0        | 0     | 21    |\n",
        "\n",
        "|-------|-------|--------|-------|--------|-------|--------|-------|--------|\n",
        "| Row # | bid   | bidSz1 | bid1  | bidSz2 | bid2  | bidSz3 | bid3  | bidSz4 |\n",
        "| 1     | 0     | 0      | 0     | 0      | 0     | 0      | 0     | 0      |\n",
        "| 2     | 26305 | 90     | 26300 | 45     | 26295 | 65     | 26290 | 93     |\n",
        "| 3     | 26305 | 90     | 26300 | 45     | 26295 | 65     | 26290 | 93     |\n",
        "| 4     | 0     | 0      | 0     | 0      | 0     | 0      | 0     | 0      |\n",
        "| 5     | 26305 | 90     | 26300 | 45     | 26295 | 65     | 26290 | 93     |\n",
        "\n",
        "|-------|-------|-------|-------|--------|-------|--------|-------|--------|\n",
        "| Row # | bid4  | askSz | ask   | askSz1 | ask1  | askSz2 | ask2  | askSz3 |\n",
        "| 1     | 0     | 0     | 0     | 0      | 0     | 0      | 0     | 0      |\n",
        "| 2     | 26285 | 3     | 26310 | 6      | 26320 | 7      | 26325 | 23     |\n",
        "| 3     | 26285 | 3     | 26310 | 6      | 26320 | 7      | 26325 | 23     |\n",
        "| 4     | 0     | 0     | 0     | 0      | 0     | 0      | 0     | 0      |\n",
        "| 5     | 26285 | 2     | 26310 | 6      | 26320 | 7      | 26325 | 23     |\n",
        "\n",
        "|-------|-------|--------|-------|-------------------|\n",
        "| Row # | ask3  | askSz4 | ask4  | microsec          |\n",
        "| 1     | 0     | 0      | 0     | 63516787225797361 |\n",
        "| 2     | 26330 | 112    | 26335 | 63516787225797361 |\n",
        "| 3     | 26330 | 112    | 26335 | 63516787225799466 |\n",
        "| 4     | 0     | 0      | 0     | 63516787225801951 |\n",
        "| 5     | 26330 | 112    | 26335 | 63516787225801951 |"
       ]
      }
     ],
     "prompt_number": 20
    },
    {
     "cell_type": "code",
     "collapsed": false,
     "input": [
      "function compr(r1::DataFrameRow, r2::DataFrameRow)\n",
      "    println(\"$(r1[:bid]),$(r1[:bidSz]), $(r2[:bid]),$(r2[:bidSz]), $(r1[:bid]==r2[:bid]), $(r1[:bidSz]==r2[:bidSz])\")\n",
      "end\n",
      "\n",
      "function parse(df::DataFrame)\n",
      "    rs = eachrow(df)\n",
      "    for i in 2:nrow(df)\n",
      "        compr(rs[i-1],rs[i])\n",
      "    end\n",
      "end\n",
      "\n",
      "parsed = parse(dfsm)"
     ],
     "language": "python",
     "metadata": {},
     "outputs": [
      {
       "output_type": "stream",
       "stream": "stdout",
       "text": [
        "0,0, 26305,20, false, false\n"
       ]
      },
      {
       "output_type": "stream",
       "stream": "stdout",
       "text": [
        "26305,20, 26305,21, true, false\n",
        "26305,21, 0,0, false, false\n",
        "0,0, 26305,21, false, false\n"
       ]
      }
     ],
     "prompt_number": 23
    },
    {
     "cell_type": "code",
     "collapsed": false,
     "input": [],
     "language": "python",
     "metadata": {},
     "outputs": []
    }
   ],
   "metadata": {}
  }
 ]
}