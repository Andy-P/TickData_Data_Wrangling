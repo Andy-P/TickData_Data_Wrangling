{
 "metadata": {
  "language": "Julia",
  "name": "",
  "signature": "sha256:2d029ad64200621e29bc17d7183dbe0e92c1ed73bc80c3ac8b39472b11cb440c"
 },
 "nbformat": 3,
 "nbformat_minor": 0,
 "worksheets": [
  {
   "cells": [
    {
     "cell_type": "code",
     "collapsed": false,
     "input": [
      "using Datetime, DataArrays, DataFrames"
     ],
     "language": "python",
     "metadata": {},
     "outputs": [],
     "prompt_number": 1
    },
    {
     "cell_type": "code",
     "collapsed": false,
     "input": [
      "replace_syms(x, membernames) = x\n",
      "function replace_syms(e::Expr, membernames)\n",
      "    if e.head != :quote\n",
      "        return Expr(e.head, (isempty(e.args) ? e.args : map(x -> replace_syms(x, membernames), e.args))...)\n",
      "    else\n",
      "        if haskey(membernames, e.args[1])\n",
      "            return membernames[e.args[1]]\n",
      "        else\n",
      "            a = gensym()\n",
      "            membernames[e.args[1]] = a\n",
      "            return a\n",
      "        end\n",
      "    end\n",
      "end\n",
      "\n",
      "function with_helper(d, body)\n",
      "    membernames = Dict{Symbol, Symbol}()\n",
      "    body = replace_syms(body, membernames)\n",
      "    funargs = map(x -> :( getindex($d, $(Meta.quot(x))) ), collect(keys(membernames)))\n",
      "    funname = gensym()\n",
      "    return(:( function $funname($(collect(values(membernames))...)) $body end; $funname($(funargs...)) ))\n",
      "end\n",
      "\n",
      "macro with(d, body)\n",
      "    with_helper(d, body)\n",
      "end"
     ],
     "language": "python",
     "metadata": {},
     "outputs": [],
     "prompt_number": 14
    },
    {
     "cell_type": "code",
     "collapsed": false,
     "input": [
      "tic()\n",
      "dfRaw = readtable(\"/Users/Andre/Projects/Kospi liquidity model/futures/csv by contract/Front month/kse-kospi200_2013-12_20131007.csv\");\n",
      "toc()\n",
      "nrow(dfRaw), ncol(dfRaw)"
     ],
     "language": "python",
     "metadata": {},
     "outputs": [
      {
       "output_type": "stream",
       "stream": "stdout",
       "text": [
        "elapsed time: 3"
       ]
      },
      {
       "output_type": "stream",
       "stream": "stdout",
       "text": [
        ".777517008 seconds\n"
       ]
      },
      {
       "metadata": {},
       "output_type": "pyout",
       "prompt_number": 68,
       "text": [
        "(367860,25)"
       ]
      }
     ],
     "prompt_number": 68
    },
    {
     "cell_type": "code",
     "collapsed": false,
     "input": [
      "dfRaw[:qte] = map(s -> s[1]=='q', dfRaw[:,:event]) # parse Datatime string into micro seconds\n",
      "df = dfRaw[13:end, setdiff(1:end,[4,5])]\n",
      "print(\"size:$(size(df))\")\n",
      "\n",
      "# parse string to datetime\n",
      "strToDate(s) = datetime(\n",
      "     int(s[1:4]),   # year\n",
      "     int(s[6:7]),   # month \n",
      "     int(s[9:10]),  # day \n",
      "     int(s[12:13]), # hour\n",
      "     int(s[15:16]), # minute\n",
      "     int(s[18:19]), # sec\n",
      "     int(s[21:23])) # millisec\n",
      "\n",
      "# add micro second time\n",
      "strToMicroSec(s) = (int64(strToDate(s))*1000) + int64(s[24:end-1])\n",
      "tic()\n",
      "df[:microsec] = map(s -> strToMicroSec(s), df[:,:Date]) # parse Datatime string into micro seconds\n",
      "df = df[:, [1,24,25,13,12,11,10,9,8,7,6,5,4,15,14,17,16,19,18,21,20,23,22]] #reorder columns\n",
      "toc()  "
     ],
     "language": "python",
     "metadata": {},
     "outputs": [
      {
       "output_type": "stream",
       "stream": "stdout",
       "text": [
        "size:(367848,24)elapsed time: "
       ]
      },
      {
       "output_type": "stream",
       "stream": "stdout",
       "text": [
        "3.514248759 seconds\n"
       ]
      },
      {
       "metadata": {},
       "output_type": "pyout",
       "prompt_number": 82,
       "text": [
        "3.514248759"
       ]
      }
     ],
     "prompt_number": 82
    },
    {
     "cell_type": "code",
     "collapsed": false,
     "input": [
      "dfsm = df[100:106,[2,3,10:17]]"
     ],
     "language": "python",
     "metadata": {},
     "outputs": [
      {
       "html": [
        "<table><tr><th></th><th>qte</th><th>microsec</th><th>bid1</th><th>bidSz1</th><th>bid</th><th>bidSz</th><th>ask</th><th>askSz</th><th>ask1</th><th>askSz1</th></tr><tr><th>1</th><td>true</td><td>63516787226112053</td><td>26300</td><td>112</td><td>26305</td><td>43</td><td>26310</td><td>2</td><td>26315</td><td>5</td></tr><tr><th>2</th><td>false</td><td>63516787226114656</td><td>0</td><td>0</td><td>0</td><td>0</td><td>0</td><td>0</td><td>0</td><td>0</td></tr><tr><th>3</th><td>true</td><td>63516787226114656</td><td>26305</td><td>43</td><td>26310</td><td>11</td><td>26315</td><td>5</td><td>26320</td><td>28</td></tr><tr><th>4</th><td>true</td><td>63516787226116877</td><td>26305</td><td>43</td><td>26310</td><td>11</td><td>26315</td><td>5</td><td>26320</td><td>28</td></tr><tr><th>5</th><td>true</td><td>63516787226119582</td><td>26305</td><td>43</td><td>26310</td><td>11</td><td>26315</td><td>5</td><td>26320</td><td>28</td></tr><tr><th>6</th><td>true</td><td>63516787226121933</td><td>26305</td><td>43</td><td>26310</td><td>12</td><td>26315</td><td>5</td><td>26320</td><td>28</td></tr><tr><th>7</th><td>true</td><td>63516787226153817</td><td>26305</td><td>43</td><td>26310</td><td>12</td><td>26315</td><td>12</td><td>26320</td><td>28</td></tr></table>"
       ],
       "metadata": {},
       "output_type": "pyout",
       "prompt_number": 96,
       "text": [
        "7x10 DataFrame\n",
        "|-------|-------|-------------------|-------|--------|-------|-------|-------|\n",
        "| Row # | qte   | microsec          | bid1  | bidSz1 | bid   | bidSz | ask   |\n",
        "| 1     | true  | 63516787226112053 | 26300 | 112    | 26305 | 43    | 26310 |\n",
        "| 2     | false | 63516787226114656 | 0     | 0      | 0     | 0     | 0     |\n",
        "| 3     | true  | 63516787226114656 | 26305 | 43     | 26310 | 11    | 26315 |\n",
        "| 4     | true  | 63516787226116877 | 26305 | 43     | 26310 | 11    | 26315 |\n",
        "| 5     | true  | 63516787226119582 | 26305 | 43     | 26310 | 11    | 26315 |\n",
        "| 6     | true  | 63516787226121933 | 26305 | 43     | 26310 | 12    | 26315 |\n",
        "| 7     | true  | 63516787226153817 | 26305 | 43     | 26310 | 12    | 26315 |\n",
        "\n",
        "|-------|-------|-------|--------|\n",
        "| Row # | askSz | ask1  | askSz1 |\n",
        "| 1     | 2     | 26315 | 5      |\n",
        "| 2     | 0     | 0     | 0      |\n",
        "| 3     | 5     | 26320 | 28     |\n",
        "| 4     | 5     | 26320 | 28     |\n",
        "| 5     | 5     | 26320 | 28     |\n",
        "| 6     | 5     | 26320 | 28     |\n",
        "| 7     | 12    | 26320 | 28     |"
       ]
      }
     ],
     "prompt_number": 96
    },
    {
     "cell_type": "code",
     "collapsed": false,
     "input": [
      "function bidData(r::DataFrameRow)\n",
      "    prices = [r[:bid],r[:bid1],r[:bid2],r[:bid3],r[:bid4]]\n",
      "    sizes = [r[:bidSz],r[:bidSz1],r[:bidSz2],r[:bidSz3],r[:bidSz4]]\n",
      "    return prices, sizes\n",
      "end\n",
      "\n",
      "function askData(r::DataFrameRow)\n",
      "    prices = [r[:ask],r[:ask1],r[:ask2],r[:ask3],r[:ask4]]\n",
      "    sizes = [r[:askSz],r[:askSz1],r[:askSz2],r[:askSz3],r[:askSz4]]\n",
      "    return prices, sizes\n",
      "end\n",
      "\n",
      "priceSizeEqual(ps1,ps2) = if ps1[1] == ps2[1] && ps1[2] == ps2[2] true else false end\n",
      "\n",
      "\n",
      "rs = eachrow(dfsm)\n",
      "bp,bs = bidData(rs[1])\n",
      "ap,as = askData(rs[1])\n",
      "\n",
      "bp2,bs2 = bidData(rs[3])\n",
      "ap2,as2 = askData(rs[3])\n",
      "\n",
      "priceSizeEqual(askData(rs[1]),askData(rs[4]))\n",
      "# bp, bs, ap, as "
     ],
     "language": "python",
     "metadata": {},
     "outputs": [
      {
       "metadata": {},
       "output_type": "pyout",
       "prompt_number": 92,
       "text": [
        "false"
       ]
      }
     ],
     "prompt_number": 92
    },
    {
     "cell_type": "code",
     "collapsed": false,
     "input": [
      "# # case 1:  Spread is one tick (no prices without bid/offer)\n",
      "# [b4, b3, b2, b1, b0, a0, a1, a2, a3, a4]\n",
      "\n",
      "# # case 2:  Spread is two tick   (1 prices without bid/offer)\n",
      "# [b4, b3, b2, b1, b0, a0, a1, a2, a3, a4] # from this to ->\n",
      "# [b3, b2, b1, b0, e1, a0, a1, a2, a3, a4] if e1 was bid at t-1\n",
      "# [b4, b3, b2, b1, b0, e1, a0, a1, a2, a3] if e1 was ask at t-1\n",
      "\n",
      "# # case 3:  Spread is three tick (2 prices without bid/offer)\n",
      "# [b3, b2, b1, b0, e1, e2, a0, a1, a2, a3]\n",
      "\n",
      "# # case 4:  Spread is four tick  (3 prices without bid/offer)\n",
      "# [b3, b2, b1, b0, e1, e2, a0, a1, a2, a3] # from this to ->\n",
      "# [b2, b1, b0, e1, e2, e3, a0, a1, a2, a3] # if e1 was bid at t-1\n",
      "# [b3, b2, b1, b0, e1, e2, e3, a0, a1, a2] # if e3 was ask at t-1\n",
      "\n",
      "# # case 5:  Spread is five tick  (4 prices without bid/offer)\n",
      "# [b2, b1, b0, e1, e2, e3, e4, a0, a1, a2]"
     ],
     "language": "python",
     "metadata": {},
     "outputs": [],
     "prompt_number": 97
    },
    {
     "cell_type": "code",
     "collapsed": false,
     "input": [
      "# function compr(r1::DataFrameRow, r2::DataFrameRow)\n",
      "#     println(\"$(r1[:bid]),$(r1[:bidSz]), $(r2[:bid]),$(r2[:bidSz]), $(r1[:bid]==r2[:bid]), $(r1[:bidSz]==r2[:bidSz])\")\n",
      "# end\n",
      "\n",
      "\n",
      "\n",
      "# function parse(df::DataFrame)\n",
      "#     rs = eachrow(df)\n",
      "#     for i in 2:nrow(df)\n",
      "#         compr(rs[i-1],rs[i])\n",
      "#     end\n",
      "# end\n",
      "\n",
      "# parsed = parse(dfsm)"
     ],
     "language": "python",
     "metadata": {},
     "outputs": []
    }
   ],
   "metadata": {}
  }
 ]
}