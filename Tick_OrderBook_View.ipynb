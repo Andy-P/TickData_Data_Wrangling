{
 "metadata": {
  "language": "Julia",
  "name": "",
  "signature": "sha256:f4d1d74f962055b4d16164789a079048edbefcf5f04a9bbb46ea60c4ea01d7b0"
 },
 "nbformat": 3,
 "nbformat_minor": 0,
 "worksheets": [
  {
   "cells": [
    {
     "cell_type": "code",
     "collapsed": false,
     "input": [
      "using Datetime, DataArrays, DataFrames"
     ],
     "language": "python",
     "metadata": {},
     "outputs": [],
     "prompt_number": 1
    },
    {
     "cell_type": "code",
     "collapsed": false,
     "input": [
      "tic()\n",
      "dfRaw = readtable(\"/Users/Andre/Projects/Kospi liquidity model/futures/csv by contract/Front month/kse-kospi200_2013-12_20131007.csv\");\n",
      "toc()\n",
      "nrow(dfRaw), ncol(dfRaw)"
     ],
     "language": "python",
     "metadata": {},
     "outputs": [
      {
       "output_type": "stream",
       "stream": "stdout",
       "text": [
        "elapsed time: 4"
       ]
      },
      {
       "output_type": "stream",
       "stream": "stdout",
       "text": [
        ".657513861 seconds\n"
       ]
      },
      {
       "metadata": {},
       "output_type": "pyout",
       "prompt_number": 2,
       "text": [
        "(367860,25)"
       ]
      }
     ],
     "prompt_number": 2
    },
    {
     "cell_type": "code",
     "collapsed": false,
     "input": [
      "df = dfRaw[13:end, setdiff(1:end,[3])]\n",
      "print(\"size:$(size(df))\")\n",
      "\n",
      "# parse string to datetime\n",
      "strToDate(s) = datetime(\n",
      "     int(s[1:4]),   # year\n",
      "     int(s[6:7]),   # month \n",
      "     int(s[9:10]),  # day \n",
      "     int(s[12:13]), # hour\n",
      "     int(s[15:16]), # minute\n",
      "     int(s[18:19]), # sec\n",
      "     int(s[21:23])) # millisec\n",
      "\n",
      "# add micro second time\n",
      "strToMicroSec(s) = (int64(strToDate(s))*1000) + int64(s[24:end-1])\n",
      "\n",
      "df[:microsec] = map(s -> strToMicroSec(s), df[:,:Date]) # parse Datatime string into micro seconds\n",
      "df[1:5,:] #[:Date,:microsec]]"
     ],
     "language": "python",
     "metadata": {},
     "outputs": [
      {
       "output_type": "stream",
       "stream": "stdout",
       "text": [
        "size:(367848,24)"
       ]
      },
      {
       "html": [
        "<table><tr><th></th><th>Date</th><th>event</th><th>lastSize</th><th>last</th><th>bidSz</th><th>bid</th><th>bidSz1</th><th>bid1</th><th>bidSz2</th><th>bid2</th><th>bidSz3</th><th>bid3</th><th>bidSz4</th><th>bid4</th><th>askSz</th><th>ask</th><th>askSz1</th><th>ask1</th><th>askSz2</th><th>ask2</th><th>askSz3</th><th>ask3</th><th>askSz4</th><th>ask4</th><th>microsec</th></tr><tr><th>1</th><td>2013-10-07T00:00:00.775953Z</td><td>trade</td><td>949</td><td>26315</td><td>0</td><td>0</td><td>0</td><td>0</td><td>0</td><td>0</td><td>0</td><td>0</td><td>0</td><td>0</td><td>0</td><td>0</td><td>0</td><td>0</td><td>0</td><td>0</td><td>0</td><td>0</td><td>0</td><td>0</td><td>63516787225775953</td></tr><tr><th>2</th><td>2013-10-07T00:00:00.775953Z</td><td>quote</td><td>0</td><td>0</td><td>4</td><td>26315</td><td>17</td><td>26310</td><td>22</td><td>26305</td><td>89</td><td>26300</td><td>45</td><td>26295</td><td>6</td><td>26320</td><td>7</td><td>26325</td><td>23</td><td>26330</td><td>112</td><td>26335</td><td>28</td><td>26340</td><td>63516787225775953</td></tr><tr><th>3</th><td>2013-10-07T00:00:00.782067Z</td><td>trade</td><td>15</td><td>26310</td><td>0</td><td>0</td><td>0</td><td>0</td><td>0</td><td>0</td><td>0</td><td>0</td><td>0</td><td>0</td><td>0</td><td>0</td><td>0</td><td>0</td><td>0</td><td>0</td><td>0</td><td>0</td><td>0</td><td>0</td><td>63516787225782067</td></tr><tr><th>4</th><td>2013-10-07T00:00:00.782067Z</td><td>quote</td><td>0</td><td>0</td><td>2</td><td>26310</td><td>22</td><td>26305</td><td>89</td><td>26300</td><td>45</td><td>26295</td><td>65</td><td>26290</td><td>6</td><td>26320</td><td>7</td><td>26325</td><td>23</td><td>26330</td><td>112</td><td>26335</td><td>28</td><td>26340</td><td>63516787225782067</td></tr><tr><th>5</th><td>2013-10-07T00:00:00.784541Z</td><td>trade</td><td>2</td><td>26310</td><td>0</td><td>0</td><td>0</td><td>0</td><td>0</td><td>0</td><td>0</td><td>0</td><td>0</td><td>0</td><td>0</td><td>0</td><td>0</td><td>0</td><td>0</td><td>0</td><td>0</td><td>0</td><td>0</td><td>0</td><td>63516787225784541</td></tr></table>"
       ],
       "metadata": {},
       "output_type": "pyout",
       "prompt_number": 3,
       "text": [
        "5x25 DataFrame\n",
        "|-------|-------------------------------|---------|----------|-------|-------|\n",
        "| Row # | Date                          | event   | lastSize | last  | bidSz |\n",
        "| 1     | \"2013-10-07T00:00:00.775953Z\" | \"trade\" | 949      | 26315 | 0     |\n",
        "| 2     | \"2013-10-07T00:00:00.775953Z\" | \"quote\" | 0        | 0     | 4     |\n",
        "| 3     | \"2013-10-07T00:00:00.782067Z\" | \"trade\" | 15       | 26310 | 0     |\n",
        "| 4     | \"2013-10-07T00:00:00.782067Z\" | \"quote\" | 0        | 0     | 2     |\n",
        "| 5     | \"2013-10-07T00:00:00.784541Z\" | \"trade\" | 2        | 26310 | 0     |\n",
        "\n",
        "|-------|-------|--------|-------|--------|-------|--------|-------|--------|\n",
        "| Row # | bid   | bidSz1 | bid1  | bidSz2 | bid2  | bidSz3 | bid3  | bidSz4 |\n",
        "| 1     | 0     | 0      | 0     | 0      | 0     | 0      | 0     | 0      |\n",
        "| 2     | 26315 | 17     | 26310 | 22     | 26305 | 89     | 26300 | 45     |\n",
        "| 3     | 0     | 0      | 0     | 0      | 0     | 0      | 0     | 0      |\n",
        "| 4     | 26310 | 22     | 26305 | 89     | 26300 | 45     | 26295 | 65     |\n",
        "| 5     | 0     | 0      | 0     | 0      | 0     | 0      | 0     | 0      |\n",
        "\n",
        "|-------|-------|-------|-------|--------|-------|--------|-------|--------|\n",
        "| Row # | bid4  | askSz | ask   | askSz1 | ask1  | askSz2 | ask2  | askSz3 |\n",
        "| 1     | 0     | 0     | 0     | 0      | 0     | 0      | 0     | 0      |\n",
        "| 2     | 26295 | 6     | 26320 | 7      | 26325 | 23     | 26330 | 112    |\n",
        "| 3     | 0     | 0     | 0     | 0      | 0     | 0      | 0     | 0      |\n",
        "| 4     | 26290 | 6     | 26320 | 7      | 26325 | 23     | 26330 | 112    |\n",
        "| 5     | 0     | 0     | 0     | 0      | 0     | 0      | 0     | 0      |\n",
        "\n",
        "|-------|-------|--------|-------|-------------------|\n",
        "| Row # | ask3  | askSz4 | ask4  | microsec          |\n",
        "| 1     | 0     | 0      | 0     | 63516787225775953 |\n",
        "| 2     | 26335 | 28     | 26340 | 63516787225775953 |\n",
        "| 3     | 0     | 0      | 0     | 63516787225782067 |\n",
        "| 4     | 26335 | 28     | 26340 | 63516787225782067 |\n",
        "| 5     | 0     | 0      | 0     | 63516787225784541 |"
       ]
      }
     ],
     "prompt_number": 3
    },
    {
     "cell_type": "code",
     "collapsed": false,
     "input": [
      "replace_syms(x, membernames) = x\n",
      "function replace_syms(e::Expr, membernames)\n",
      "    if e.head != :quote\n",
      "        return Expr(e.head, (isempty(e.args) ? e.args : map(x -> replace_syms(x, membernames), e.args))...)\n",
      "    else\n",
      "        if haskey(membernames, e.args[1])\n",
      "            return membernames[e.args[1]]\n",
      "        else\n",
      "            a = gensym()\n",
      "            membernames[e.args[1]] = a\n",
      "            return a\n",
      "        end\n",
      "    end\n",
      "end\n",
      "\n",
      "function with_helper(d, body)\n",
      "    membernames = Dict{Symbol, Symbol}()\n",
      "    body = replace_syms(body, membernames)\n",
      "    funargs = map(x -> :( getindex($d, $(Meta.quot(x))) ), collect(keys(membernames)))\n",
      "    funname = gensym()\n",
      "    return(:( function $funname($(collect(values(membernames))...)) $body end; $funname($(funargs...)) ))\n",
      "end\n",
      "\n",
      "macro with(d, body)\n",
      "    with_helper(d, body)\n",
      "end"
     ],
     "language": "python",
     "metadata": {},
     "outputs": [],
     "prompt_number": 9
    },
    {
     "cell_type": "code",
     "collapsed": false,
     "input": [
      "using DataArrays, DataFrames\n",
      "\n",
      "srand(1)\n",
      "const n = 5_000_000\n",
      "a = rand(n)\n",
      "b = rand(n)\n",
      "da = data(a)\n",
      "db = data(b)\n",
      "df = DataFrame(a = da, b = db)\n",
      "df2 = DataFrame({a, b})\n",
      "names!(df2, [:a, :b])\n",
      "\n",
      "Base.values(da::DataArray) = da.data\n",
      "\n",
      "function dot1(a::Vector, b::Vector)\n",
      "    x = 0.0\n",
      "    for i in 1:length(a)\n",
      "        x += a[i] * b[i]\n",
      "    end\n",
      "    return x\n",
      "end\n",
      "\n",
      "function dot2(da::DataVector, db::DataVector)\n",
      "    T = eltype(da)\n",
      "    x = 0.0\n",
      "    for i in 1:length(da)\n",
      "        x += da[i]::T * db[i]::T\n",
      "    end\n",
      "    return x\n",
      "end\n",
      "\n",
      "function dot3(df::DataFrame)\n",
      "    da, db = df[:a], df[:b]\n",
      "    T = eltype(da)\n",
      "    x = 0.0\n",
      "    for i in 1:length(da)\n",
      "        x += da[i]::T * db[i]::T\n",
      "    end\n",
      "    return x\n",
      "end\n",
      "\n",
      "function dot4(df::DataFrame)\n",
      "    da, db = df[:a], df[:b]\n",
      "    return dot2(da, db)\n",
      "end\n",
      "\n",
      "function dot5(da::DataVector, db::DataVector)\n",
      "    x = 0.0\n",
      "    for i in 1:length(da)\n",
      "        x += da.data[i] * db.data[i]\n",
      "    end\n",
      "    return x\n",
      "end\n",
      "\n",
      "function dot6(da::DataVector, db::DataVector)\n",
      "    x = 0.0\n",
      "    for i in 1:length(da)\n",
      "        x += values(da)[i] * values(db)[i]\n",
      "    end\n",
      "    return x\n",
      "end\n",
      "\n",
      "function dot7(da::DataVector, db::DataVector)\n",
      "    x = 0.0\n",
      "    for i in 1:length(da)\n",
      "        if !(isna(da, i) || isna(da, i))\n",
      "            x += values(da)[i] * values(db)[i]\n",
      "        end\n",
      "    end\n",
      "    return x\n",
      "end\n",
      "\n",
      "function dot8(a::Vector, b::Vector)\n",
      "    x = 0.0\n",
      "    for i in 1:length(a)\n",
      "        if !(isnan(a[i]) || isnan(a[i]))\n",
      "            x += a[i] * b[i]\n",
      "        end\n",
      "    end\n",
      "    return x\n",
      "end\n",
      "\n",
      "function dot9(df::DataFrame)\n",
      "    @with df begin\n",
      "        x = 0.0\n",
      "        for i in 1:length(:a)\n",
      "            x += values(:a)[i] * values(:b)[i]\n",
      "        end\n",
      "        x\n",
      "    end\n",
      "end\n",
      "\n",
      "println(\"$(t1 = @elapsed dot1(a, b))\")\n",
      "println(\"$(t2 = @elapsed dot2(da, db))\")\n",
      "println(\"$(t3 = @elapsed dot3(df))\")\n",
      "println(\"$(t4 = @elapsed dot4(df))\")\n",
      "println(\"$(t5 = @elapsed dot5(da, db))\")\n",
      "println(\"$(t6 = @elapsed dot6(da, db))\")\n",
      "println(\"$(t7 = @elapsed dot7(da, db))\")\n",
      "println(\"$(t8 = @elapsed dot8(a, b))\")\n",
      "println(\"$(t9 = @elapsed dot9(df))\")"
     ],
     "language": "python",
     "metadata": {},
     "outputs": [
      {
       "output_type": "stream",
       "stream": "stdout",
       "text": [
        "0.012667811\n"
       ]
      },
      {
       "output_type": "stream",
       "stream": "stdout",
       "text": [
        "0.588679177"
       ]
      },
      {
       "output_type": "stream",
       "stream": "stdout",
       "text": [
        "\n",
        "2.977133345"
       ]
      },
      {
       "output_type": "stream",
       "stream": "stdout",
       "text": [
        "\n",
        "0.438108316"
       ]
      },
      {
       "output_type": "stream",
       "stream": "stdout",
       "text": [
        "\n",
        "0.016832407\n",
        "0.015266734\n",
        "0.037993942\n",
        "0.012982308\n",
        "0.01593079"
       ]
      },
      {
       "output_type": "stream",
       "stream": "stdout",
       "text": [
        "\n"
       ]
      }
     ],
     "prompt_number": 12
    },
    {
     "cell_type": "code",
     "collapsed": false,
     "input": [
      "using DataFramesMeta\n",
      "\n",
      "df = DataFrame(x = 1:3, y = [2, 1, 2])\n",
      "x = [2, 1, 0]"
     ],
     "language": "python",
     "metadata": {},
     "outputs": [
      {
       "ename": "LoadError",
       "evalue": "DataFramesMeta not found\nwhile loading In[13], in expression starting on line 1",
       "output_type": "pyerr",
       "traceback": [
        "DataFramesMeta not found\nwhile loading In[13], in expression starting on line 1",
        " in require at loading.jl:47"
       ]
      }
     ],
     "prompt_number": 13
    },
    {
     "cell_type": "code",
     "collapsed": false,
     "input": [],
     "language": "python",
     "metadata": {},
     "outputs": []
    }
   ],
   "metadata": {}
  }
 ]
}