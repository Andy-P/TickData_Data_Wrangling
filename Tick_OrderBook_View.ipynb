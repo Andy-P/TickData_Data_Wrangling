{
 "metadata": {
  "language": "Julia",
  "name": "",
  "signature": "sha256:a67a0670208af83886985fe6b50984a66e9c65d90c40518d198b25d88f1395c1"
 },
 "nbformat": 3,
 "nbformat_minor": 0,
 "worksheets": [
  {
   "cells": [
    {
     "cell_type": "code",
     "collapsed": false,
     "input": [
      "using Datetime, DataArrays, DataFrames"
     ],
     "language": "python",
     "metadata": {},
     "outputs": [],
     "prompt_number": 1
    },
    {
     "cell_type": "code",
     "collapsed": false,
     "input": [
      "replace_syms(x, membernames) = x\n",
      "function replace_syms(e::Expr, membernames)\n",
      "    if e.head != :quote\n",
      "        return Expr(e.head, (isempty(e.args) ? e.args : map(x -> replace_syms(x, membernames), e.args))...)\n",
      "    else\n",
      "        if haskey(membernames, e.args[1])\n",
      "            return membernames[e.args[1]]\n",
      "        else\n",
      "            a = gensym()\n",
      "            membernames[e.args[1]] = a\n",
      "            return a\n",
      "        end\n",
      "    end\n",
      "end\n",
      "\n",
      "function with_helper(d, body)\n",
      "    membernames = Dict{Symbol, Symbol}()\n",
      "    body = replace_syms(body, membernames)\n",
      "    funargs = map(x -> :( getindex($d, $(Meta.quot(x))) ), collect(keys(membernames)))\n",
      "    funname = gensym()\n",
      "    return(:( function $funname($(collect(values(membernames))...)) $body end; $funname($(funargs...)) ))\n",
      "end\n",
      "\n",
      "macro with(d, body)\n",
      "    with_helper(d, body)\n",
      "end"
     ],
     "language": "python",
     "metadata": {},
     "outputs": [],
     "prompt_number": 14
    },
    {
     "cell_type": "code",
     "collapsed": false,
     "input": [
      "tic()\n",
      "dfRaw = readtable(\"/Users/Andre/Projects/Kospi liquidity model/futures/csv by contract/Front month/kse-kospi200_2013-12_20131007.csv\");\n",
      "toc()\n",
      "nrow(dfRaw), ncol(dfRaw)"
     ],
     "language": "python",
     "metadata": {},
     "outputs": [
      {
       "output_type": "stream",
       "stream": "stdout",
       "text": [
        "elapsed time: 3"
       ]
      },
      {
       "output_type": "stream",
       "stream": "stdout",
       "text": [
        ".777517008 seconds\n"
       ]
      },
      {
       "metadata": {},
       "output_type": "pyout",
       "prompt_number": 68,
       "text": [
        "(367860,25)"
       ]
      }
     ],
     "prompt_number": 68
    },
    {
     "cell_type": "code",
     "collapsed": false,
     "input": [
      "dfRaw[:qte] = map(s -> s[1]=='q', dfRaw[:,:event]) # parse Datatime string into micro seconds\n",
      "df = dfRaw[13:end, setdiff(1:end,[4,5])]\n",
      "print(\"size:$(size(df))\")\n",
      "\n",
      "# parse string to datetime\n",
      "strToDate(s) = datetime(\n",
      "     int(s[1:4]),   # year\n",
      "     int(s[6:7]),   # month \n",
      "     int(s[9:10]),  # day \n",
      "     int(s[12:13]), # hour\n",
      "     int(s[15:16]), # minute\n",
      "     int(s[18:19]), # sec\n",
      "     int(s[21:23])) # millisec\n",
      "\n",
      "# add micro second time\n",
      "strToMicroSec(s) = (int64(strToDate(s))*1000) + int64(s[24:end-1])\n",
      "tic()\n",
      "df[:microsec] = map(s -> strToMicroSec(s), df[:,:Date]) # parse Datatime string into micro seconds\n",
      "df = df[:, [1,24,25,13,12,11,10,9,8,7,6,5,4,15,14,17,16,19,18,21,20,23,22]] #reorder columns\n",
      "toc()  "
     ],
     "language": "python",
     "metadata": {},
     "outputs": [
      {
       "output_type": "stream",
       "stream": "stdout",
       "text": [
        "size:(367848,24)elapsed time: "
       ]
      },
      {
       "output_type": "stream",
       "stream": "stdout",
       "text": [
        "3.514248759 seconds\n"
       ]
      },
      {
       "metadata": {},
       "output_type": "pyout",
       "prompt_number": 82,
       "text": [
        "3.514248759"
       ]
      }
     ],
     "prompt_number": 82
    },
    {
     "cell_type": "code",
     "collapsed": false,
     "input": [
      "dfsm = df[100:106,:]"
     ],
     "language": "python",
     "metadata": {},
     "outputs": [
      {
       "html": [
        "<table><tr><th></th><th>Date</th><th>qte</th><th>microsec</th><th>bid4</th><th>bidSz4</th><th>bid3</th><th>bidSz3</th><th>bid2</th><th>bidSz2</th><th>bid1</th><th>bidSz1</th><th>bid</th><th>bidSz</th><th>ask</th><th>askSz</th><th>ask1</th><th>askSz1</th><th>ask2</th><th>askSz2</th><th>ask3</th><th>askSz3</th><th>ask4</th><th>askSz4</th></tr><tr><th>1</th><td>2013-10-07T00:00:01.112053Z</td><td>true</td><td>63516787226112053</td><td>26285</td><td>115</td><td>26290</td><td>87</td><td>26295</td><td>67</td><td>26300</td><td>112</td><td>26305</td><td>43</td><td>26310</td><td>2</td><td>26315</td><td>5</td><td>26320</td><td>28</td><td>26325</td><td>29</td><td>26330</td><td>45</td></tr><tr><th>2</th><td>2013-10-07T00:00:01.114656Z</td><td>false</td><td>63516787226114656</td><td>0</td><td>0</td><td>0</td><td>0</td><td>0</td><td>0</td><td>0</td><td>0</td><td>0</td><td>0</td><td>0</td><td>0</td><td>0</td><td>0</td><td>0</td><td>0</td><td>0</td><td>0</td><td>0</td><td>0</td></tr><tr><th>3</th><td>2013-10-07T00:00:01.114656Z</td><td>true</td><td>63516787226114656</td><td>26290</td><td>87</td><td>26295</td><td>67</td><td>26300</td><td>112</td><td>26305</td><td>43</td><td>26310</td><td>11</td><td>26315</td><td>5</td><td>26320</td><td>28</td><td>26325</td><td>29</td><td>26330</td><td>45</td><td>26335</td><td>134</td></tr><tr><th>4</th><td>2013-10-07T00:00:01.116877Z</td><td>true</td><td>63516787226116877</td><td>26290</td><td>87</td><td>26295</td><td>67</td><td>26300</td><td>112</td><td>26305</td><td>43</td><td>26310</td><td>11</td><td>26315</td><td>5</td><td>26320</td><td>28</td><td>26325</td><td>29</td><td>26330</td><td>45</td><td>26335</td><td>134</td></tr><tr><th>5</th><td>2013-10-07T00:00:01.119582Z</td><td>true</td><td>63516787226119582</td><td>26290</td><td>87</td><td>26295</td><td>67</td><td>26300</td><td>112</td><td>26305</td><td>43</td><td>26310</td><td>11</td><td>26315</td><td>5</td><td>26320</td><td>28</td><td>26325</td><td>29</td><td>26330</td><td>45</td><td>26335</td><td>134</td></tr><tr><th>6</th><td>2013-10-07T00:00:01.121933Z</td><td>true</td><td>63516787226121933</td><td>26290</td><td>87</td><td>26295</td><td>67</td><td>26300</td><td>112</td><td>26305</td><td>43</td><td>26310</td><td>12</td><td>26315</td><td>5</td><td>26320</td><td>28</td><td>26325</td><td>29</td><td>26330</td><td>45</td><td>26335</td><td>134</td></tr><tr><th>7</th><td>2013-10-07T00:00:01.153817Z</td><td>true</td><td>63516787226153817</td><td>26290</td><td>87</td><td>26295</td><td>67</td><td>26300</td><td>112</td><td>26305</td><td>43</td><td>26310</td><td>12</td><td>26315</td><td>12</td><td>26320</td><td>28</td><td>26325</td><td>29</td><td>26330</td><td>45</td><td>26335</td><td>134</td></tr></table>"
       ],
       "metadata": {},
       "output_type": "pyout",
       "prompt_number": 83,
       "text": [
        "7x23 DataFrame\n",
        "|-------|-------------------------------|-------|-------------------|-------|\n",
        "| Row # | Date                          | qte   | microsec          | bid4  |\n",
        "| 1     | \"2013-10-07T00:00:01.112053Z\" | true  | 63516787226112053 | 26285 |\n",
        "| 2     | \"2013-10-07T00:00:01.114656Z\" | false | 63516787226114656 | 0     |\n",
        "| 3     | \"2013-10-07T00:00:01.114656Z\" | true  | 63516787226114656 | 26290 |\n",
        "| 4     | \"2013-10-07T00:00:01.116877Z\" | true  | 63516787226116877 | 26290 |\n",
        "| 5     | \"2013-10-07T00:00:01.119582Z\" | true  | 63516787226119582 | 26290 |\n",
        "| 6     | \"2013-10-07T00:00:01.121933Z\" | true  | 63516787226121933 | 26290 |\n",
        "| 7     | \"2013-10-07T00:00:01.153817Z\" | true  | 63516787226153817 | 26290 |\n",
        "\n",
        "|-------|--------|-------|--------|-------|--------|-------|--------|-------|\n",
        "| Row # | bidSz4 | bid3  | bidSz3 | bid2  | bidSz2 | bid1  | bidSz1 | bid   |\n",
        "| 1     | 115    | 26290 | 87     | 26295 | 67     | 26300 | 112    | 26305 |\n",
        "| 2     | 0      | 0     | 0      | 0     | 0      | 0     | 0      | 0     |\n",
        "| 3     | 87     | 26295 | 67     | 26300 | 112    | 26305 | 43     | 26310 |\n",
        "| 4     | 87     | 26295 | 67     | 26300 | 112    | 26305 | 43     | 26310 |\n",
        "| 5     | 87     | 26295 | 67     | 26300 | 112    | 26305 | 43     | 26310 |\n",
        "| 6     | 87     | 26295 | 67     | 26300 | 112    | 26305 | 43     | 26310 |\n",
        "| 7     | 87     | 26295 | 67     | 26300 | 112    | 26305 | 43     | 26310 |\n",
        "\n",
        "|-------|-------|-------|-------|-------|--------|-------|--------|-------|\n",
        "| Row # | bidSz | ask   | askSz | ask1  | askSz1 | ask2  | askSz2 | ask3  |\n",
        "| 1     | 43    | 26310 | 2     | 26315 | 5      | 26320 | 28     | 26325 |\n",
        "| 2     | 0     | 0     | 0     | 0     | 0      | 0     | 0      | 0     |\n",
        "| 3     | 11    | 26315 | 5     | 26320 | 28     | 26325 | 29     | 26330 |\n",
        "| 4     | 11    | 26315 | 5     | 26320 | 28     | 26325 | 29     | 26330 |\n",
        "| 5     | 11    | 26315 | 5     | 26320 | 28     | 26325 | 29     | 26330 |\n",
        "| 6     | 12    | 26315 | 5     | 26320 | 28     | 26325 | 29     | 26330 |\n",
        "| 7     | 12    | 26315 | 12    | 26320 | 28     | 26325 | 29     | 26330 |\n",
        "\n",
        "|-------|--------|-------|--------|\n",
        "| Row # | askSz3 | ask4  | askSz4 |\n",
        "| 1     | 29     | 26330 | 45     |\n",
        "| 2     | 0      | 0     | 0      |\n",
        "| 3     | 45     | 26335 | 134    |\n",
        "| 4     | 45     | 26335 | 134    |\n",
        "| 5     | 45     | 26335 | 134    |\n",
        "| 6     | 45     | 26335 | 134    |\n",
        "| 7     | 45     | 26335 | 134    |"
       ]
      }
     ],
     "prompt_number": 83
    },
    {
     "cell_type": "code",
     "collapsed": false,
     "input": [
      "function bidData(r::DataFrameRow)\n",
      "    prices = [r[:bid],r[:bid1],r[:bid2],r[:bid3],r[:bid4]]\n",
      "    sizes = [r[:bidSz],r[:bidSz1],r[:bidSz2],r[:bidSz3],r[:bidSz4]]\n",
      "    return prices, sizes\n",
      "end\n",
      "\n",
      "function askData(r::DataFrameRow)\n",
      "    prices = [r[:ask],r[:ask1],r[:ask2],r[:ask3],r[:ask4]]\n",
      "    sizes = [r[:askSz],r[:askSz1],r[:askSz2],r[:askSz3],r[:askSz4]]\n",
      "    return prices, sizes\n",
      "end\n",
      "\n",
      "\n",
      "\n",
      "rs = eachrow(dfsm)\n",
      "bp,bs = bidData(rs[2])\n",
      "ap,as = askData(rs[2])\n",
      "bp, bs, ap, as "
     ],
     "language": "python",
     "metadata": {},
     "outputs": [
      {
       "metadata": {},
       "output_type": "pyout",
       "prompt_number": 40,
       "text": [
        "([26305,26300,26295,26290,26285],[20,90,45,65,93],[26310,26320,26325,26330,26335],[3,6,7,23,112])"
       ]
      }
     ],
     "prompt_number": 40
    },
    {
     "cell_type": "code",
     "collapsed": false,
     "input": [
      "# function compr(r1::DataFrameRow, r2::DataFrameRow)\n",
      "#     println(\"$(r1[:bid]),$(r1[:bidSz]), $(r2[:bid]),$(r2[:bidSz]), $(r1[:bid]==r2[:bid]), $(r1[:bidSz]==r2[:bidSz])\")\n",
      "# end\n",
      "\n",
      "\n",
      "\n",
      "# function parse(df::DataFrame)\n",
      "#     rs = eachrow(df)\n",
      "#     for i in 2:nrow(df)\n",
      "#         compr(rs[i-1],rs[i])\n",
      "#     end\n",
      "# end\n",
      "\n",
      "# parsed = parse(dfsm)"
     ],
     "language": "python",
     "metadata": {},
     "outputs": []
    }
   ],
   "metadata": {}
  }
 ]
}