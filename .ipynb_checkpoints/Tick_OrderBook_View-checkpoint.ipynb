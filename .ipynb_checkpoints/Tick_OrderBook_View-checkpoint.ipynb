{
 "metadata": {
  "language": "Julia",
  "name": "",
  "signature": "sha256:965baddbc8e2135c8149d7edf6bd60c9102409fc43d985322141f80ed5944724"
 },
 "nbformat": 3,
 "nbformat_minor": 0,
 "worksheets": [
  {
   "cells": [
    {
     "cell_type": "code",
     "collapsed": false,
     "input": [
      "using Datetime, DataArrays, DataFrames"
     ],
     "language": "python",
     "metadata": {},
     "outputs": [],
     "prompt_number": 1
    },
    {
     "cell_type": "code",
     "collapsed": false,
     "input": [
      "tic()\n",
      "dfRaw = readtable(\"/Users/Andre/Projects/Kospi liquidity model/futures/csv by contract/Front month/kse-kospi200_2013-12_20131007.csv\");\n",
      "toc()\n",
      "nrow(dfRaw), ncol(dfRaw)"
     ],
     "language": "python",
     "metadata": {},
     "outputs": [
      {
       "output_type": "stream",
       "stream": "stdout",
       "text": [
        "elapsed time: 10"
       ]
      },
      {
       "output_type": "stream",
       "stream": "stdout",
       "text": [
        ".731188469 seconds\n"
       ]
      },
      {
       "metadata": {},
       "output_type": "pyout",
       "prompt_number": 80,
       "text": [
        "(367860,25)"
       ]
      }
     ],
     "prompt_number": 80
    },
    {
     "cell_type": "code",
     "collapsed": false,
     "input": [
      "df = dfRaw[13:end, setdiff(1:end,[3])]\n",
      "print(\"size:$(size(df))\")\n",
      "\n",
      "# parse string to datetime\n",
      "strToDate(s) = datetime(\n",
      "     int(s[1:4]),   # year\n",
      "     int(s[6:7]),   # month \n",
      "     int(s[9:10]),  # day \n",
      "     int(s[12:13]), # hour\n",
      "     int(s[15:16]), # minute\n",
      "     int(s[18:19]), # sec\n",
      "     int(s[21:23])) # millisec\n",
      "\n",
      "# add micro second time\n",
      "strToMicroSec(s) = (int64(strToDate(s))*1000) + int64(s[24:end-1])\n",
      "tic()\n",
      "df[:microsec] = map(s -> strToMicroSec(s), df[:,:Date]) # parse Datatime string into micro seconds\n",
      "toc()\n",
      "#df[1:5,:] #[:Date,:microsec]]"
     ],
     "language": "python",
     "metadata": {},
     "outputs": [
      {
       "output_type": "stream",
       "stream": "stdout",
       "text": [
        "size:(367848,24)elapsed time: "
       ]
      },
      {
       "output_type": "stream",
       "stream": "stdout",
       "text": [
        "0.685754963 seconds\n"
       ]
      },
      {
       "metadata": {},
       "output_type": "pyout",
       "prompt_number": 81,
       "text": [
        "0.685754963"
       ]
      }
     ],
     "prompt_number": 81
    },
    {
     "cell_type": "code",
     "collapsed": false,
     "input": [
      "replace_syms(x, membernames) = x\n",
      "function replace_syms(e::Expr, membernames)\n",
      "    if e.head != :quote\n",
      "        return Expr(e.head, (isempty(e.args) ? e.args : map(x -> replace_syms(x, membernames), e.args))...)\n",
      "    else\n",
      "        if haskey(membernames, e.args[1])\n",
      "            return membernames[e.args[1]]\n",
      "        else\n",
      "            a = gensym()\n",
      "            membernames[e.args[1]] = a\n",
      "            return a\n",
      "        end\n",
      "    end\n",
      "end\n",
      "\n",
      "function with_helper(d, body)\n",
      "    membernames = Dict{Symbol, Symbol}()\n",
      "    body = replace_syms(body, membernames)\n",
      "    funargs = map(x -> :( getindex($d, $(Meta.quot(x))) ), collect(keys(membernames)))\n",
      "    funname = gensym()\n",
      "    return(:( function $funname($(collect(values(membernames))...)) $body end; $funname($(funargs...)) ))\n",
      "end\n",
      "\n",
      "macro with(d, body)\n",
      "    with_helper(d, body)\n",
      "end"
     ],
     "language": "python",
     "metadata": {},
     "outputs": [],
     "prompt_number": 14
    },
    {
     "cell_type": "code",
     "collapsed": false,
     "input": [
      "using DataArrays, DataFrames\n",
      "\n",
      "srand(1)\n",
      "const n = 5_000_000\n",
      "a = rand(n)\n",
      "b = rand(n)\n",
      "da = data(a)\n",
      "db = data(b)\n",
      "df = DataFrame(a = da, b = db)\n",
      "df2 = DataFrame({a, b})\n",
      "names!(df2, [:a, :b])\n",
      "\n",
      "Base.values(da::DataArray) = da.data\n",
      "\n",
      "function dot1(a::Vector, b::Vector)\n",
      "    x = 0.0\n",
      "    for i in 1:length(a)\n",
      "        x += a[i] * b[i]\n",
      "    end\n",
      "    return x\n",
      "end\n",
      "\n",
      "function dot2(da::DataVector, db::DataVector)\n",
      "    T = eltype(da)\n",
      "    x = 0.0\n",
      "    for i in 1:length(da)\n",
      "        x += da[i]::T * db[i]::T\n",
      "    end\n",
      "    return x\n",
      "end\n",
      "\n",
      "function dot3(df::DataFrame)\n",
      "    da, db = df[:a], df[:b]\n",
      "    T = eltype(da)\n",
      "    x = 0.0\n",
      "    for i in 1:length(da)\n",
      "        x += da[i]::T * db[i]::T\n",
      "    end\n",
      "    return x\n",
      "end\n",
      "\n",
      "function dot4(df::DataFrame)\n",
      "    da, db = df[:a], df[:b]\n",
      "    return dot2(da, db)\n",
      "end\n",
      "\n",
      "function dot5(da::DataVector, db::DataVector)\n",
      "    x = 0.0\n",
      "    for i in 1:length(da)\n",
      "        x += da.data[i] * db.data[i]\n",
      "    end\n",
      "    return x\n",
      "end\n",
      "\n",
      "function dot6(da::DataVector, db::DataVector)\n",
      "    x = 0.0\n",
      "    for i in 1:length(da)\n",
      "        x += values(da)[i] * values(db)[i]\n",
      "    end\n",
      "    return x\n",
      "end\n",
      "\n",
      "function dot7(da::DataVector, db::DataVector)\n",
      "    x = 0.0\n",
      "    for i in 1:length(da)\n",
      "        if !(isna(da, i) || isna(da, i))\n",
      "            x += values(da)[i] * values(db)[i]\n",
      "        end\n",
      "    end\n",
      "    return x\n",
      "end\n",
      "\n",
      "function dot8(a::Vector, b::Vector)\n",
      "    x = 0.0\n",
      "    for i in 1:length(a)\n",
      "        if !(isnan(a[i]) || isnan(a[i]))\n",
      "            x += a[i] * b[i]\n",
      "        end\n",
      "    end\n",
      "    return x\n",
      "end\n",
      "\n",
      "function dot9(df::DataFrame)\n",
      "    @with df begin\n",
      "        x = 0.0\n",
      "        for i in 1:length(:a)\n",
      "            x += values(:a)[i] * values(:b)[i]\n",
      "        end\n",
      "        x\n",
      "    end\n",
      "end\n",
      "\n",
      "println(\"$(t1 = @elapsed dot1(a, b))\")\n",
      "println(\"$(t2 = @elapsed dot2(da, db))\")\n",
      "println(\"$(t3 = @elapsed dot3(df))\")\n",
      "println(\"$(t4 = @elapsed dot4(df))\")\n",
      "println(\"$(t5 = @elapsed dot5(da, db))\")\n",
      "println(\"$(t6 = @elapsed dot6(da, db))\")\n",
      "println(\"$(t7 = @elapsed dot7(da, db))\")\n",
      "println(\"$(t8 = @elapsed dot8(a, b))\")\n",
      "println(\"$(t9 = @elapsed dot9(df))\")"
     ],
     "language": "python",
     "metadata": {},
     "outputs": [
      {
       "output_type": "stream",
       "stream": "stdout",
       "text": [
        "0.012667811\n"
       ]
      },
      {
       "output_type": "stream",
       "stream": "stdout",
       "text": [
        "0.588679177"
       ]
      },
      {
       "output_type": "stream",
       "stream": "stdout",
       "text": [
        "\n",
        "2.977133345"
       ]
      },
      {
       "output_type": "stream",
       "stream": "stdout",
       "text": [
        "\n",
        "0.438108316"
       ]
      },
      {
       "output_type": "stream",
       "stream": "stdout",
       "text": [
        "\n",
        "0.016832407\n",
        "0.015266734\n",
        "0.037993942\n",
        "0.012982308\n",
        "0.01593079"
       ]
      },
      {
       "output_type": "stream",
       "stream": "stdout",
       "text": [
        "\n"
       ]
      }
     ],
     "prompt_number": 12
    },
    {
     "cell_type": "code",
     "collapsed": false,
     "input": [
      "function compr(c1,c2)\n",
      "    println(\"$(c1[:x]), $(c2[:y]), $(c1[:x]==c2[:x]), $(c1[:y]==c2[:y])\")\n",
      "end\n",
      "\n",
      "function parseDf(df::DataFrame)\n",
      "    rs = eachrow(df)\n",
      "    for i in 2:nrow(df)\n",
      "        compr(rs[i-1],rs[i])\n",
      "    end\n",
      "end\n",
      "\n",
      "df = DataFrame(x = [1,1,2,2,2], y = [1,1,1,2,2])\n",
      "parseDf(df)"
     ],
     "language": "python",
     "metadata": {},
     "outputs": [
      {
       "output_type": "stream",
       "stream": "stdout",
       "text": [
        "1, 1, true, true\n"
       ]
      },
      {
       "output_type": "stream",
       "stream": "stdout",
       "text": [
        "1, 1, false, true\n",
        "2, 2, true, false\n",
        "2, 2, true, true\n"
       ]
      }
     ],
     "prompt_number": 77
    },
    {
     "cell_type": "code",
     "collapsed": false,
     "input": [
      "tic()\n",
      "df = readcsv(\"/Users/Andre/Projects/Kospi liquidity model/futures/csv by contract/Front month/kse-kospi200_2013-12_20131007.csv\")\n",
      "toc()"
     ],
     "language": "python",
     "metadata": {},
     "outputs": [
      {
       "output_type": "stream",
       "stream": "stdout",
       "text": [
        "elapsed time: 26"
       ]
      },
      {
       "output_type": "stream",
       "stream": "stdout",
       "text": [
        ".307525889 seconds\n"
       ]
      },
      {
       "metadata": {},
       "output_type": "pyout",
       "prompt_number": 79,
       "text": [
        "26.307525889"
       ]
      }
     ],
     "prompt_number": 79
    },
    {
     "cell_type": "code",
     "collapsed": false,
     "input": [
      "headers = df[1,:]\n",
      "df = df[2:end, :]"
     ],
     "language": "python",
     "metadata": {},
     "outputs": [
      {
       "metadata": {},
       "output_type": "pyout",
       "prompt_number": 71,
       "text": [
        "367860x25 Array{Any,2}:\n",
        " \"2013-10-06T23:00:00.016596Z\"  \"quote\"  \u2026    0.0      0.0    0.0      0.0\n",
        " \"2013-10-06T23:00:07.103657Z\"  \"quote\"       0.0      0.0    0.0      0.0\n",
        " \"2013-10-06T23:00:14.167190Z\"  \"quote\"       0.0      0.0    0.0      0.0\n",
        " \"2013-10-06T23:00:21.236958Z\"  \"quote\"       0.0      0.0    0.0      0.0\n",
        " \"2013-10-06T23:00:28.306844Z\"  \"quote\"       0.0      0.0    0.0      0.0\n",
        " \"2013-10-06T23:00:35.376849Z\"  \"quote\"  \u2026    0.0      0.0    0.0      0.0\n",
        " \"2013-10-06T23:00:42.446965Z\"  \"quote\"       0.0      0.0    0.0      0.0\n",
        " \"2013-10-06T23:00:49.517204Z\"  \"quote\"       0.0      0.0    0.0      0.0\n",
        " \"2013-10-06T23:00:56.588032Z\"  \"quote\"       0.0      0.0    0.0      0.0\n",
        " \"2013-10-06T23:01:03.657567Z\"  \"quote\"       0.0      0.0    0.0      0.0\n",
        " \"2013-10-06T23:01:10.727332Z\"  \"quote\"  \u2026    0.0      0.0    0.0      0.0\n",
        " \"2013-10-06T23:01:17.798273Z\"  \"quote\"       0.0      0.0    0.0      0.0\n",
        " \"2013-10-07T00:00:00.775953Z\"  \"trade\"       0.0      0.0    0.0      0.0\n",
        " \u22ee                                       \u22f1                                \n",
        " \"2013-10-07T06:04:59.707258Z\"  \"quote\"     121.0  26335.0  121.0  26340.0\n",
        " \"2013-10-07T06:04:59.709844Z\"  \"quote\"     121.0  26335.0  121.0  26340.0\n",
        " \"2013-10-07T06:04:59.712437Z\"  \"quote\"  \u2026  121.0  26335.0  121.0  26340.0\n",
        " \"2013-10-07T06:04:59.714906Z\"  \"quote\"     121.0  26335.0  121.0  26340.0\n",
        " \"2013-10-07T06:04:59.717261Z\"  \"quote\"     121.0  26335.0  121.0  26340.0\n",
        " \"2013-10-07T06:04:59.720215Z\"  \"trade\"       0.0      0.0    0.0      0.0\n",
        " \"2013-10-07T06:04:59.720215Z\"  \"quote\"     121.0  26335.0  121.0  26340.0\n",
        " \"2013-10-07T06:04:59.722317Z\"  \"quote\"  \u2026  121.0  26335.0  121.0  26340.0\n",
        " \"2013-10-07T06:04:59.724788Z\"  \"quote\"     121.0  26335.0  121.0  26340.0\n",
        " \"2013-10-07T06:04:59.727730Z\"  \"quote\"     121.0  26335.0  121.0  26340.0\n",
        " \"2013-10-07T06:15:00.579927Z\"  \"trade\"       0.0      0.0    0.0      0.0\n",
        " \"2013-10-07T06:15:00.579927Z\"  \"quote\"      56.0  26335.0   53.0  26340.0"
       ]
      }
     ],
     "prompt_number": 71
    }
   ],
   "metadata": {}
  }
 ]
}